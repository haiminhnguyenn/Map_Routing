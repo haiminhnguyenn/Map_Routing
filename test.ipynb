{
 "cells": [
  {
   "cell_type": "code",
   "execution_count": 20,
   "metadata": {},
   "outputs": [
    {
     "name": "stdout",
     "output_type": "stream",
     "text": [
      "Your map should have been opened in your browser automatically.\n",
      "Press ctrl+c to return.\n"
     ]
    }
   ],
   "source": [
    "import requests\n",
    "import folium\n",
    "from pprint import pprint\n",
    "\n",
    "\n",
    "BASE_URL = 'https://nominatim.openstreetmap.org/search?format=json'\n",
    "m = folium.Map(location=[21.03498,105.85207],\n",
    "              zoom_start=18)\n",
    "\n",
    "loc = [(21.03630, 105.85038),\n",
    "       (21.03669, 105.85073)]\n",
    "\n",
    "folium.PolyLine(locations=loc,color=\"red\", weight=3, opacity=1).add_to(m)\n",
    "folium.Marker(location=loc[0]).add_to(m) \n",
    "folium.Marker(location=loc[1]).add_to(m)\n",
    "folium.ClickForLatLng().add_to(m) \n",
    "folium.ClickForMarker().add_to(m) \n",
    "\n",
    "m.show_in_browser() "
   ]
  },
  {
   "cell_type": "code",
   "execution_count": 8,
   "metadata": {},
   "outputs": [
    {
     "name": "stdout",
     "output_type": "stream",
     "text": [
      " * Serving Flask app '__main__'\n",
      " * Debug mode: on\n"
     ]
    },
    {
     "name": "stderr",
     "output_type": "stream",
     "text": [
      "WARNING: This is a development server. Do not use it in a production deployment. Use a production WSGI server instead.\n",
      " * Running on http://127.0.0.1:5001\n",
      "Press CTRL+C to quit\n",
      " * Restarting with stat\n"
     ]
    },
    {
     "ename": "SystemExit",
     "evalue": "1",
     "output_type": "error",
     "traceback": [
      "An exception has occurred, use %tb to see the full traceback.\n",
      "\u001b[1;31mSystemExit\u001b[0m\u001b[1;31m:\u001b[0m 1\n"
     ]
    }
   ],
   "source": [
    "from flask import Flask, render_template\n",
    "app = Flask (__name__)\n",
    "\n",
    "@app.route ('/')\n",
    "@app.route ('/home')\n",
    "def home():\n",
    "  return \"HelloWord\" \n",
    "if __name__ == '__main__':\n",
    "  app.run (debug=True,port=5001)\n"
   ]
  }
 ],
 "metadata": {
  "kernelspec": {
   "display_name": "Python 3",
   "language": "python",
   "name": "python3"
  },
  "language_info": {
   "codemirror_mode": {
    "name": "ipython",
    "version": 3
   },
   "file_extension": ".py",
   "mimetype": "text/x-python",
   "name": "python",
   "nbconvert_exporter": "python",
   "pygments_lexer": "ipython3",
   "version": "3.11.4"
  }
 },
 "nbformat": 4,
 "nbformat_minor": 2
}
